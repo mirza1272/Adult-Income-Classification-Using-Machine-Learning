{
 "cells": [
  {
   "cell_type": "markdown",
   "id": "93f34c61",
   "metadata": {},
   "source": [
    "### Project"
   ]
  },
  {
   "cell_type": "code",
   "execution_count": 28,
   "id": "b8254b6a",
   "metadata": {},
   "outputs": [],
   "source": [
    "import pandas as pd\n",
    "from sklearn.preprocessing import OneHotEncoder,LabelEncoder,StandardScaler\n",
    "from category_encoders import TargetEncoder\n",
    "from imblearn.over_sampling import SMOTE\n",
    "from sklearn.model_selection import train_test_split,GridSearchCV,RandomizedSearchCV,cross_val_score\n",
    "from sklearn.linear_model import LogisticRegression,SGDClassifier\n",
    "from sklearn.ensemble import RandomForestClassifier\n",
    "from sklearn.ensemble import GradientBoostingClassifier\n",
    "from xgboost import XGBClassifier\n",
    "import numpy as np\n",
    "import optuna\n",
    "from sklearn.metrics import accuracy_score, classification_report, roc_auc_score,roc_curve\n",
    "import matplotlib.pyplot as plt"
   ]
  },
  {
   "cell_type": "code",
   "execution_count": 20,
   "id": "7cd97a4b",
   "metadata": {},
   "outputs": [],
   "source": [
    "# load dataset\n",
    "url = 'adult.csv'\n",
    "df = pd.read_csv(url)"
   ]
  },
  {
   "cell_type": "code",
   "execution_count": 21,
   "id": "691f7774",
   "metadata": {},
   "outputs": [
    {
     "name": "stdout",
     "output_type": "stream",
     "text": [
      "<class 'pandas.core.frame.DataFrame'>\n",
      "RangeIndex: 32561 entries, 0 to 32560\n",
      "Data columns (total 15 columns):\n",
      " #   Column          Non-Null Count  Dtype \n",
      "---  ------          --------------  ----- \n",
      " 0   age             32561 non-null  int64 \n",
      " 1   workclass       32561 non-null  object\n",
      " 2   fnlwgt          32561 non-null  int64 \n",
      " 3   education       32561 non-null  object\n",
      " 4   education.num   32561 non-null  int64 \n",
      " 5   marital.status  32561 non-null  object\n",
      " 6   occupation      32561 non-null  object\n",
      " 7   relationship    32561 non-null  object\n",
      " 8   race            32561 non-null  object\n",
      " 9   sex             32561 non-null  object\n",
      " 10  capital.gain    32561 non-null  int64 \n",
      " 11  capital.loss    32561 non-null  int64 \n",
      " 12  hours.per.week  32561 non-null  int64 \n",
      " 13  native.country  32561 non-null  object\n",
      " 14  income          32561 non-null  object\n",
      "dtypes: int64(6), object(9)\n",
      "memory usage: 3.7+ MB\n",
      "Information about dataset:\n",
      " None\n"
     ]
    }
   ],
   "source": [
    "#inforamation\n",
    "print(\"Information about dataset:\\n\",df.info())"
   ]
  },
  {
   "cell_type": "code",
   "execution_count": 22,
   "id": "20015d16",
   "metadata": {},
   "outputs": [
    {
     "name": "stdout",
     "output_type": "stream",
     "text": [
      "workclass ? replaced with unknown\n",
      "native.country ? replaced with unknown\n",
      "occupation ? replaced with unknown\n"
     ]
    }
   ],
   "source": [
    "#eda\n",
    "# -handling missing values\n",
    "df[\"workclass\"] = df[\"workclass\"].replace(\"?\", \"Unknown\")\n",
    "print(\"workclass ? replaced with unknown\")\n",
    "\n",
    "df[\"native.country\"] = df[\"native.country\"].replace(\"?\", \"Unknown\")\n",
    "print(\"native.country ? replaced with unknown\")\n",
    "\n",
    "df[\"occupation\"] = df[\"occupation\"].replace(\"?\", \"Unknown\")\n",
    "print(\"occupation ? replaced with unknown\")"
   ]
  },
  {
   "cell_type": "code",
   "execution_count": 23,
   "id": "5c615ac0",
   "metadata": {},
   "outputs": [],
   "source": [
    "#divide in parts of features and targets\n",
    "X = df.drop(columns=[\"income\"])\n",
    "y = df[\"income\"]\n"
   ]
  },
  {
   "cell_type": "code",
   "execution_count": 24,
   "id": "1d2f0ae5",
   "metadata": {},
   "outputs": [
    {
     "name": "stdout",
     "output_type": "stream",
     "text": [
      "Encoding completed successfully!\n"
     ]
    }
   ],
   "source": [
    "X.columns = X.columns.str.strip()\n",
    "\n",
    "onehot_cols = [\"workclass\", \"marital.status\", \"relationship\", \"race\"]\n",
    "label_cols = [\"education\", \"sex\"]\n",
    "target_cols = [\"occupation\", \"native.country\"]\n",
    "numerical = [\"age\", \"fnlwgt\", \"education.num\", \"capital.gain\", \"capital.loss\", \"hours.per.week\"]\n",
    "\n",
    "# OneHot Encoding\n",
    "X = pd.get_dummies(X, columns=onehot_cols, drop_first=True)\n",
    "\n",
    "# Label Encoding\n",
    "for col in label_cols:\n",
    "    le = LabelEncoder()\n",
    "    X[col] = le.fit_transform(X[col])\n",
    "\n",
    "# Target Encoding\n",
    "te = TargetEncoder()\n",
    "X[target_cols] = te.fit_transform(X[target_cols], y)\n",
    "\n",
    "# Scale numerical columns\n",
    "scaler = StandardScaler()\n",
    "X[numerical] = scaler.fit_transform(X[numerical])\n",
    "\n",
    "# Encode target\n",
    "y = y.map({\"<=50K\": 0, \">50K\": 1})\n",
    "\n",
    "print(\"Encoding completed successfully!\")"
   ]
  },
  {
   "cell_type": "code",
   "execution_count": 25,
   "id": "542360df",
   "metadata": {},
   "outputs": [
    {
     "name": "stdout",
     "output_type": "stream",
     "text": [
      "data balanced\n"
     ]
    }
   ],
   "source": [
    "smote = SMOTE(random_state=42)\n",
    "X_resampled, y_resampled = smote.fit_resample(X, y)\n",
    "print(\"data balanced\")"
   ]
  },
  {
   "cell_type": "code",
   "execution_count": 26,
   "id": "2872e0a6",
   "metadata": {},
   "outputs": [],
   "source": [
    "# splitting data\n",
    "x_train, x_test, y_train, y_test = train_test_split(X_resampled, y_resampled, test_size=0.2, random_state=42)"
   ]
  },
  {
   "cell_type": "code",
   "execution_count": 29,
   "id": "cdc0185c",
   "metadata": {},
   "outputs": [
    {
     "name": "stdout",
     "output_type": "stream",
     "text": [
      "Accuracy of Logistic Regression: 0.8299959546925566\n",
      "Classification Report:\n",
      "               precision    recall  f1-score   support\n",
      "\n",
      "           0       0.85      0.81      0.83      4955\n",
      "           1       0.81      0.85      0.83      4933\n",
      "\n",
      "    accuracy                           0.83      9888\n",
      "   macro avg       0.83      0.83      0.83      9888\n",
      "weighted avg       0.83      0.83      0.83      9888\n",
      "\n",
      "ROC AUC Score: 0.8300479912154863\n"
     ]
    },
    {
     "data": {
      "image/png": "[encoded data removed]",
      "text/plain": [
       "<Figure size 640x480 with 1 Axes>"
      ]
     },
     "metadata": {},
     "output_type": "display_data"
    }
   ],
   "source": [
    "# from sklearn.linear_model import LogisticRegression\n",
    "log_model = LogisticRegression(max_iter=1000)\n",
    "log_model.fit(x_train, y_train)\n",
    "y_pred = log_model.predict(x_test)\n",
    "\n",
    "#predicting accuracy\n",
    "acc_log = accuracy_score(y_test, y_pred)\n",
    "print(\"Accuracy of Logistic Regression:\", acc_log)\n",
    "print(\"Classification Report:\\n\", classification_report(y_test, y_pred))\n",
    "\n",
    "roc_score = roc_auc_score(y_test, y_pred)\n",
    "print(\"ROC AUC Score:\", roc_score)\n",
    "\n",
    "# Plot ROC Curve\n",
    "fpr, tpr, thresholds = roc_curve(y_test, y_pred)\n",
    "plt.plot(fpr, tpr, label=f\"AUC = {roc_score:.2f}\")\n",
    "plt.plot([0, 1], [0, 1], 'k--')  # diagonal\n",
    "plt.xlabel('False Positive Rate')\n",
    "plt.ylabel('True Positive Rate')\n",
    "plt.title('ROC Curve')\n",
    "plt.legend()\n",
    "plt.grid()\n",
    "plt.show()"
   ]
  },
  {
   "cell_type": "code",
   "execution_count": null,
   "id": "9f6151f5",
   "metadata": {},
   "outputs": [
    {
     "name": "stderr",
     "output_type": "stream",
     "text": [
      "[I 2025-07-25 22:12:38,540] A new study created in memory with name: no-name-d619e825-d40e-47af-b6da-0fa056796879\n",
      "[I 2025-07-25 22:12:43,654] Trial 0 finished with value: 0.8419801779935275 and parameters: {'n_estimators': 58, 'max_depth': 7, 'min_samples_split': 5, 'min_samples_leaf': 10, 'max_features': 'log2'}. Best is trial 0 with value: 0.8419801779935275.\n",
      "[I 2025-07-25 22:12:50,570] Trial 1 finished with value: 0.8477447411003235 and parameters: {'n_estimators': 119, 'max_depth': 8, 'min_samples_split': 9, 'min_samples_leaf': 6, 'max_features': 'log2'}. Best is trial 1 with value: 0.8477447411003235.\n",
      "[I 2025-07-25 22:13:13,359] Trial 2 finished with value: 0.8365948624595468 and parameters: {'n_estimators': 189, 'max_depth': 5, 'min_samples_split': 7, 'min_samples_leaf': 8, 'max_features': None}. Best is trial 1 with value: 0.8477447411003235.\n",
      "[I 2025-07-25 22:13:21,022] Trial 3 finished with value: 0.8635972896440128 and parameters: {'n_estimators': 158, 'max_depth': 13, 'min_samples_split': 9, 'min_samples_leaf': 3, 'max_features': 'log2'}. Best is trial 3 with value: 0.8635972896440128.\n",
      "[I 2025-07-25 22:13:25,991] Trial 4 finished with value: 0.857933859223301 and parameters: {'n_estimators': 111, 'max_depth': 11, 'min_samples_split': 9, 'min_samples_leaf': 4, 'max_features': 'log2'}. Best is trial 3 with value: 0.8635972896440128.\n",
      "[I 2025-07-25 22:13:36,082] Trial 5 finished with value: 0.8674908980582524 and parameters: {'n_estimators': 189, 'max_depth': 16, 'min_samples_split': 3, 'min_samples_leaf': 4, 'max_features': 'log2'}. Best is trial 5 with value: 0.8674908980582524.\n",
      "[I 2025-07-25 22:13:38,671] Trial 6 finished with value: 0.8253944174757281 and parameters: {'n_estimators': 154, 'max_depth': 4, 'min_samples_split': 2, 'min_samples_leaf': 6, 'max_features': 'log2'}. Best is trial 5 with value: 0.8674908980582524.\n",
      "[I 2025-07-25 22:13:44,104] Trial 7 finished with value: 0.8571500809061489 and parameters: {'n_estimators': 163, 'max_depth': 12, 'min_samples_split': 3, 'min_samples_leaf': 10, 'max_features': 'log2'}. Best is trial 5 with value: 0.8674908980582524.\n",
      "[I 2025-07-25 22:13:54,829] Trial 8 finished with value: 0.8829641990291263 and parameters: {'n_estimators': 52, 'max_depth': 20, 'min_samples_split': 7, 'min_samples_leaf': 8, 'max_features': None}. Best is trial 8 with value: 0.8829641990291263.\n",
      "[I 2025-07-25 22:14:12,853] Trial 9 finished with value: 0.8736852750809062 and parameters: {'n_estimators': 114, 'max_depth': 10, 'min_samples_split': 7, 'min_samples_leaf': 10, 'max_features': None}. Best is trial 8 with value: 0.8829641990291263.\n",
      "[I 2025-07-25 22:14:16,158] Trial 10 finished with value: 0.8640523867313915 and parameters: {'n_estimators': 54, 'max_depth': 20, 'min_samples_split': 6, 'min_samples_leaf': 8, 'max_features': 'sqrt'}. Best is trial 8 with value: 0.8829641990291263.\n",
      "[I 2025-07-25 22:14:35,817] Trial 11 finished with value: 0.8835709951456311 and parameters: {'n_estimators': 91, 'max_depth': 20, 'min_samples_split': 7, 'min_samples_leaf': 8, 'max_features': None}. Best is trial 11 with value: 0.8835709951456311.\n",
      "[I 2025-07-25 22:14:51,870] Trial 12 finished with value: 0.8833434466019418 and parameters: {'n_estimators': 83, 'max_depth': 19, 'min_samples_split': 7, 'min_samples_leaf': 8, 'max_features': None}. Best is trial 11 with value: 0.8835709951456311.\n",
      "[I 2025-07-25 22:15:09,496] Trial 13 finished with value: 0.8887287621359223 and parameters: {'n_estimators': 82, 'max_depth': 17, 'min_samples_split': 5, 'min_samples_leaf': 1, 'max_features': None}. Best is trial 13 with value: 0.8887287621359223.\n",
      "[I 2025-07-25 22:15:28,571] Trial 14 finished with value: 0.8885517799352751 and parameters: {'n_estimators': 92, 'max_depth': 16, 'min_samples_split': 5, 'min_samples_leaf': 1, 'max_features': None}. Best is trial 13 with value: 0.8887287621359223.\n",
      "[I 2025-07-25 22:15:32,190] Trial 15 finished with value: 0.871460355987055 and parameters: {'n_estimators': 83, 'max_depth': 15, 'min_samples_split': 5, 'min_samples_leaf': 1, 'max_features': 'sqrt'}. Best is trial 13 with value: 0.8887287621359223.\n",
      "[I 2025-07-25 22:15:54,505] Trial 16 finished with value: 0.8891080097087379 and parameters: {'n_estimators': 96, 'max_depth': 17, 'min_samples_split': 4, 'min_samples_leaf': 1, 'max_features': None}. Best is trial 16 with value: 0.8891080097087379.\n",
      "[I 2025-07-25 22:16:22,457] Trial 17 finished with value: 0.8882736650485438 and parameters: {'n_estimators': 138, 'max_depth': 17, 'min_samples_split': 4, 'min_samples_leaf': 2, 'max_features': None}. Best is trial 16 with value: 0.8891080097087379.\n",
      "[I 2025-07-25 22:16:36,265] Trial 18 finished with value: 0.8868830906148867 and parameters: {'n_estimators': 69, 'max_depth': 14, 'min_samples_split': 4, 'min_samples_leaf': 2, 'max_features': None}. Best is trial 16 with value: 0.8891080097087379.\n",
      "[I 2025-07-25 22:16:41,238] Trial 19 finished with value: 0.8711569579288025 and parameters: {'n_estimators': 101, 'max_depth': 17, 'min_samples_split': 2, 'min_samples_leaf': 3, 'max_features': 'sqrt'}. Best is trial 16 with value: 0.8891080097087379.\n"
     ]
    },
    {
     "name": "stdout",
     "output_type": "stream",
     "text": [
      "Best Parameters from Optuna:\n",
      " {'n_estimators': 96, 'max_depth': 17, 'min_samples_split': 4, 'min_samples_leaf': 1, 'max_features': None}\n",
      "\n",
      "Accuracy on Test Set of Random forest: 0.8945\n",
      "\n",
      "Random Forest Classification Report:\n",
      "               precision    recall  f1-score   support\n",
      "\n",
      "           0       0.90      0.89      0.89      4955\n",
      "           1       0.89      0.90      0.89      4933\n",
      "\n",
      "    accuracy                           0.89      9888\n",
      "   macro avg       0.89      0.89      0.89      9888\n",
      "weighted avg       0.89      0.89      0.89      9888\n",
      "\n"
     ]
    }
   ],
   "source": [
    "# # from sklearn.ensemble import RandomForestClassifier\n",
    "\n",
    "def objective(trial):\n",
    "    params = {\n",
    "        'n_estimators': trial.suggest_int('n_estimators', 50, 200),\n",
    "        'max_depth': trial.suggest_int('max_depth', 2, 20),\n",
    "        'min_samples_split': trial.suggest_int('min_samples_split', 2, 10),\n",
    "        'min_samples_leaf': trial.suggest_int('min_samples_leaf', 1, 10),\n",
    "        'max_features': trial.suggest_categorical('max_features', ['sqrt', 'log2', None])\n",
    "    }\n",
    "    \n",
    "    clf = RandomForestClassifier(random_state=42, **params)\n",
    "    score = cross_val_score(clf, x_train, y_train, cv=3, scoring='accuracy', n_jobs=-1)\n",
    "    return score.mean()\n",
    "\n",
    "# Optimize with Optuna\n",
    "study = optuna.create_study(direction='maximize')\n",
    "study.optimize(objective, n_trials=20)\n",
    "\n",
    "# Train Final Model on Best Parameters \n",
    "best_params = study.best_params\n",
    "print(\"Best Parameters from Optuna:\\n\", best_params)\n",
    "\n",
    "best_model = RandomForestClassifier(random_state=42, **best_params)\n",
    "best_model.fit(x_train, y_train)\n",
    "\n",
    "# Evaluate on Test Set \n",
    "y_pred = best_model.predict(x_test)\n",
    "acc = accuracy_score(y_test, y_pred)\n",
    "\n",
    "print(f\"\\nAccuracy on Test Set of Random forest: {acc:.4f}\")\n",
    "print(\"\\nRandom Forest Classification Report:\\n\", classification_report(y_test, y_pred))"
   ]
  },
  {
   "cell_type": "code",
   "execution_count": 11,
   "id": "2b16b8eb",
   "metadata": {},
   "outputs": [
    {
     "name": "stderr",
     "output_type": "stream",
     "text": [
      "[I 2025-07-25 22:17:34,444] A new study created in memory with name: no-name-947c4fd4-7406-4598-9d3b-907e4df8b089\n",
      "[I 2025-07-25 22:17:40,826] Trial 0 finished with value: 0.861549352750809 and parameters: {'n_estimators': 50, 'learning_rate': 0.05, 'max_depth': 5, 'min_samples_split': 4, 'min_samples_leaf': 5, 'subsample': 0.7961339424376881}. Best is trial 0 with value: 0.861549352750809.\n",
      "[I 2025-07-25 22:18:15,669] Trial 1 finished with value: 0.9078681229773463 and parameters: {'n_estimators': 170, 'learning_rate': 0.2, 'max_depth': 8, 'min_samples_split': 9, 'min_samples_leaf': 5, 'subsample': 0.7239703734664811}. Best is trial 1 with value: 0.9078681229773463.\n",
      "[I 2025-07-25 22:18:44,783] Trial 2 finished with value: 0.9085760517799353 and parameters: {'n_estimators': 160, 'learning_rate': 0.2, 'max_depth': 7, 'min_samples_split': 7, 'min_samples_leaf': 4, 'subsample': 0.761775391389016}. Best is trial 2 with value: 0.9085760517799353.\n",
      "[I 2025-07-25 22:18:57,782] Trial 3 finished with value: 0.8867313915857605 and parameters: {'n_estimators': 100, 'learning_rate': 0.1, 'max_depth': 4, 'min_samples_split': 7, 'min_samples_leaf': 8, 'subsample': 0.886250543924169}. Best is trial 2 with value: 0.9085760517799353.\n",
      "[I 2025-07-25 22:20:36,987] Trial 4 finished with value: 0.9059466019417476 and parameters: {'n_estimators': 240, 'learning_rate': 0.2, 'max_depth': 10, 'min_samples_split': 10, 'min_samples_leaf': 9, 'subsample': 0.9885839517338204}. Best is trial 2 with value: 0.9085760517799353.\n",
      "[I 2025-07-25 22:20:46,062] Trial 5 finished with value: 0.866504854368932 and parameters: {'n_estimators': 50, 'learning_rate': 0.05, 'max_depth': 6, 'min_samples_split': 7, 'min_samples_leaf': 7, 'subsample': 0.6215668454000999}. Best is trial 2 with value: 0.9085760517799353.\n",
      "[I 2025-07-25 22:21:33,169] Trial 6 finished with value: 0.9087783171521036 and parameters: {'n_estimators': 150, 'learning_rate': 0.1, 'max_depth': 8, 'min_samples_split': 9, 'min_samples_leaf': 7, 'subsample': 0.7976768061163682}. Best is trial 6 with value: 0.9087783171521036.\n",
      "[I 2025-07-25 22:22:19,403] Trial 7 finished with value: 0.9063511326860841 and parameters: {'n_estimators': 140, 'learning_rate': 0.2, 'max_depth': 9, 'min_samples_split': 2, 'min_samples_leaf': 3, 'subsample': 0.7049146455602943}. Best is trial 6 with value: 0.9087783171521036.\n",
      "[I 2025-07-25 22:22:49,742] Trial 8 finished with value: 0.905542071197411 and parameters: {'n_estimators': 150, 'learning_rate': 0.2, 'max_depth': 6, 'min_samples_split': 10, 'min_samples_leaf': 5, 'subsample': 0.605792756692114}. Best is trial 6 with value: 0.9087783171521036.\n",
      "[I 2025-07-25 22:23:17,183] Trial 9 finished with value: 0.8743932038834952 and parameters: {'n_estimators': 120, 'learning_rate': 0.01, 'max_depth': 8, 'min_samples_split': 9, 'min_samples_leaf': 10, 'subsample': 0.6563899445536725}. Best is trial 6 with value: 0.9087783171521036.\n",
      "[I 2025-07-25 22:23:42,105] Trial 10 finished with value: 0.8911812297734628 and parameters: {'n_estimators': 240, 'learning_rate': 0.1, 'max_depth': 3, 'min_samples_split': 4, 'min_samples_leaf': 1, 'subsample': 0.8763933970338226}. Best is trial 6 with value: 0.9087783171521036.\n",
      "[I 2025-07-25 22:24:22,457] Trial 11 finished with value: 0.9094862459546925 and parameters: {'n_estimators': 210, 'learning_rate': 0.1, 'max_depth': 7, 'min_samples_split': 7, 'min_samples_leaf': 3, 'subsample': 0.7968144857826108}. Best is trial 11 with value: 0.9094862459546925.\n",
      "[I 2025-07-25 22:25:28,281] Trial 12 finished with value: 0.9089805825242718 and parameters: {'n_estimators': 300, 'learning_rate': 0.1, 'max_depth': 8, 'min_samples_split': 8, 'min_samples_leaf': 1, 'subsample': 0.8566352794872494}. Best is trial 11 with value: 0.9094862459546925.\n",
      "[I 2025-07-25 22:26:54,289] Trial 13 finished with value: 0.9139360841423948 and parameters: {'n_estimators': 300, 'learning_rate': 0.1, 'max_depth': 10, 'min_samples_split': 5, 'min_samples_leaf': 1, 'subsample': 0.8753084526156901}. Best is trial 13 with value: 0.9139360841423948.\n",
      "[I 2025-07-25 22:28:04,656] Trial 14 finished with value: 0.9100930420711975 and parameters: {'n_estimators': 220, 'learning_rate': 0.1, 'max_depth': 10, 'min_samples_split': 5, 'min_samples_leaf': 2, 'subsample': 0.9591722158489979}. Best is trial 13 with value: 0.9139360841423948.\n",
      "[I 2025-07-25 22:29:45,886] Trial 15 finished with value: 0.8960355987055016 and parameters: {'n_estimators': 300, 'learning_rate': 0.01, 'max_depth': 10, 'min_samples_split': 5, 'min_samples_leaf': 2, 'subsample': 0.9799470195730061}. Best is trial 13 with value: 0.9139360841423948.\n",
      "[I 2025-07-25 22:31:14,570] Trial 16 finished with value: 0.9121156957928802 and parameters: {'n_estimators': 260, 'learning_rate': 0.1, 'max_depth': 10, 'min_samples_split': 5, 'min_samples_leaf': 2, 'subsample': 0.9345641523508835}. Best is trial 13 with value: 0.9139360841423948.\n",
      "[I 2025-07-25 22:32:28,110] Trial 17 finished with value: 0.9114077669902912 and parameters: {'n_estimators': 260, 'learning_rate': 0.1, 'max_depth': 9, 'min_samples_split': 2, 'min_samples_leaf': 1, 'subsample': 0.9218545165621492}. Best is trial 13 with value: 0.9139360841423948.\n",
      "[I 2025-07-25 22:33:45,082] Trial 18 finished with value: 0.9115088996763754 and parameters: {'n_estimators': 270, 'learning_rate': 0.1, 'max_depth': 9, 'min_samples_split': 4, 'min_samples_leaf': 3, 'subsample': 0.9292034070397056}. Best is trial 13 with value: 0.9139360841423948.\n",
      "[I 2025-07-25 22:34:47,491] Trial 19 finished with value: 0.8908778317152104 and parameters: {'n_estimators': 200, 'learning_rate': 0.01, 'max_depth': 10, 'min_samples_split': 5, 'min_samples_leaf': 2, 'subsample': 0.8470324706689061}. Best is trial 13 with value: 0.9139360841423948.\n"
     ]
    },
    {
     "name": "stdout",
     "output_type": "stream",
     "text": [
      "Best Parameters: {'n_estimators': 300, 'learning_rate': 0.1, 'max_depth': 10, 'min_samples_split': 5, 'min_samples_leaf': 1, 'subsample': 0.8753084526156901}\n",
      "Best Accuracy: 0.9139360841423948\n",
      "\n",
      "Gradient Boosting Final Accuracy: 0.9139360841423948\n",
      "\n",
      "Gradient boosting Classification Report:\n",
      "               precision    recall  f1-score   support\n",
      "\n",
      "           0       0.91      0.92      0.91      4955\n",
      "           1       0.92      0.90      0.91      4933\n",
      "\n",
      "    accuracy                           0.91      9888\n",
      "   macro avg       0.91      0.91      0.91      9888\n",
      "weighted avg       0.91      0.91      0.91      9888\n",
      "\n"
     ]
    }
   ],
   "source": [
    "# # from sklearn.ensemble import GradientBoostingClassifier\n",
    "\n",
    "def objective(trial):\n",
    "    # Define hyperparameters to tune\n",
    "    params = {\n",
    "        \"n_estimators\": trial.suggest_int(\"n_estimators\", 50, 300, step=10),\n",
    "        \"learning_rate\": trial.suggest_categorical(\"learning_rate\", [0.01, 0.05, 0.1, 0.2]),\n",
    "        \"max_depth\": trial.suggest_int(\"max_depth\", 3, 10),\n",
    "        \"min_samples_split\": trial.suggest_int(\"min_samples_split\", 2, 10),\n",
    "        \"min_samples_leaf\": trial.suggest_int(\"min_samples_leaf\", 1, 10),\n",
    "        \"subsample\": trial.suggest_float(\"subsample\", 0.6, 1.0),\n",
    "        \"random_state\": 42\n",
    "    }\n",
    "    \n",
    "    # Initialize model with trial parameters\n",
    "    model = GradientBoostingClassifier(**params)\n",
    "    model.fit(x_train, y_train)\n",
    "    preds = model.predict(x_test)\n",
    "    accuracy = accuracy_score(y_test, preds)\n",
    "    return accuracy\n",
    "\n",
    "# Create Optuna study\n",
    "study = optuna.create_study(direction=\"maximize\")\n",
    "study.optimize(objective, n_trials=20)\n",
    "\n",
    "# Best results\n",
    "print(\"Best Parameters:\", study.best_params)\n",
    "print(\"Best Accuracy:\", study.best_value)\n",
    "\n",
    "# Retrain with best params\n",
    "best_model = GradientBoostingClassifier(**study.best_params, random_state=42)\n",
    "best_model.fit(x_train, y_train)\n",
    "y_pred = best_model.predict(x_test)\n",
    "\n",
    "# Final Evaluation\n",
    "acc = accuracy_score(y_test, y_pred)\n",
    "print(\"\\nGradient Boosting Final Accuracy:\", acc)\n",
    "print(\"\\nGradient boosting Classification Report:\\n\", classification_report(y_test, y_pred))"
   ]
  },
  {
   "cell_type": "code",
   "execution_count": null,
   "id": "66fe2232",
   "metadata": {},
   "outputs": [],
   "source": [
    "# from xgboost import XGBClassifier\n",
    "def objective(trial):\n",
    "    params = {\n",
    "        \"n_estimators\": trial.suggest_int(\"n_estimators\", 50, 300),\n",
    "        \"max_depth\": trial.suggest_int(\"max_depth\", 3, 15),\n",
    "        \"learning_rate\": trial.suggest_float(\"learning_rate\", 0.01, 0.3),\n",
    "        \"subsample\": trial.suggest_float(\"subsample\", 0.6, 1.0),\n",
    "        \"colsample_bytree\": trial.suggest_float(\"colsample_bytree\", 0.6, 1.0),\n",
    "        \"min_child_weight\": trial.suggest_int(\"min_child_weight\", 1, 10),\n",
    "        \"gamma\": trial.suggest_float(\"gamma\", 0, 5),\n",
    "        \"reg_alpha\": trial.suggest_float(\"reg_alpha\", 0.0, 1.0),\n",
    "        \"reg_lambda\": trial.suggest_float(\"reg_lambda\", 0.0, 1.0),\n",
    "        \"random_state\": 42,\n",
    "        \"use_label_encoder\": False,\n",
    "        \"eval_metric\": \"logloss\"\n",
    "    }\n",
    "\n",
    "    model = XGBClassifier(**params)\n",
    "    model.fit(x_train, y_train)\n",
    "\n",
    "    preds = model.predict(x_test)\n",
    "    return accuracy_score(y_test, preds)\n",
    "\n",
    "# Run Optuna Study ---\n",
    "study = optuna.create_study(direction=\"maximize\")\n",
    "study.optimize(objective, n_trials=30)\n",
    "\n",
    "# Train final model with best params ---\n",
    "print(\"Best Parameters:\", study.best_params)\n",
    "best_model = XGBClassifier(**study.best_params, use_label_encoder=False, eval_metric=\"logloss\")\n",
    "best_model.fit(x_train, y_train)\n",
    "\n",
    "# Test Accuracy ---\n",
    "y_pred = best_model.predict(x_test)\n",
    "print(\"\\nAccuracy on Test Set:\", accuracy_score(y_test, y_pred))\n",
    "print(\"\\nXGBoost Classification Report:\\n\", classification_report(y_test, y_pred))"
   ]
  },
  {
   "cell_type": "markdown",
   "id": "d3bcc0a8",
   "metadata": {},
   "source": []
  }
 ],
 "metadata": {
  "kernelspec": {
   "display_name": "Python 3",
   "language": "python",
   "name": "python3"
  },
  "language_info": {
   "codemirror_mode": {
    "name": "ipython",
    "version": 3
   },
   "file_extension": ".py",
   "mimetype": "text/x-python",
   "name": "python",
   "nbconvert_exporter": "python",
   "pygments_lexer": "ipython3",
   "version": "3.13.5"
  }
 },
 "nbformat": 4,
 "nbformat_minor": 5
}
